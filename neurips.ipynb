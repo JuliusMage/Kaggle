{
 "cells": [
  {
   "cell_type": "code",
   "execution_count": 1,
   "id": "6c074313",
   "metadata": {
    "_cell_guid": "b1076dfc-b9ad-4769-8c92-a6c4dae69d19",
    "_uuid": "8f2839f25d086af736a60e9eeb907d3b93b6e0e5",
    "execution": {
     "iopub.execute_input": "2025-06-25T00:54:10.759808Z",
     "iopub.status.busy": "2025-06-25T00:54:10.759498Z",
     "iopub.status.idle": "2025-06-25T00:54:12.954745Z",
     "shell.execute_reply": "2025-06-25T00:54:12.953788Z"
    },
    "papermill": {
     "duration": 2.201523,
     "end_time": "2025-06-25T00:54:12.956822",
     "exception": false,
     "start_time": "2025-06-25T00:54:10.755299",
     "status": "completed"
    },
    "tags": []
   },
   "outputs": [],
   "source": [
    "import pandas as pd\n",
    "import numpy as np\n",
    "import joblib"
   ]
  },
  {
   "cell_type": "code",
   "execution_count": 2,
   "id": "86815988",
   "metadata": {
    "execution": {
     "iopub.execute_input": "2025-06-25T00:54:12.962885Z",
     "iopub.status.busy": "2025-06-25T00:54:12.962490Z",
     "iopub.status.idle": "2025-06-25T00:54:12.995068Z",
     "shell.execute_reply": "2025-06-25T00:54:12.994013Z"
    },
    "papermill": {
     "duration": 0.037324,
     "end_time": "2025-06-25T00:54:12.996826",
     "exception": false,
     "start_time": "2025-06-25T00:54:12.959502",
     "status": "completed"
    },
    "tags": []
   },
   "outputs": [],
   "source": [
    "# Load precomputed test RDKit features\n",
    "test_rdkit = pd.read_csv(\"/kaggle/input/precomp/test_with_rdkit_features.csv\")"
   ]
  },
  {
   "cell_type": "code",
   "execution_count": 3,
   "id": "aa82c5d8",
   "metadata": {
    "execution": {
     "iopub.execute_input": "2025-06-25T00:54:13.002520Z",
     "iopub.status.busy": "2025-06-25T00:54:13.002209Z",
     "iopub.status.idle": "2025-06-25T00:54:13.225692Z",
     "shell.execute_reply": "2025-06-25T00:54:13.224484Z"
    },
    "papermill": {
     "duration": 0.22847,
     "end_time": "2025-06-25T00:54:13.227578",
     "exception": false,
     "start_time": "2025-06-25T00:54:12.999108",
     "status": "completed"
    },
    "tags": []
   },
   "outputs": [],
   "source": [
    "# ----- STEP 1: Align features with training columns -----\n",
    "# Load training feature columns\n",
    "train_df = pd.read_csv(\"/kaggle/input/precomputed-rdkit-features/train_with_rdkit_features.csv\")\n",
    "train_features = [col for col in train_df.columns if col not in ['id', 'Tg', 'FFV', 'Tc', 'Density', 'Rg']]"
   ]
  },
  {
   "cell_type": "code",
   "execution_count": 4,
   "id": "773df834",
   "metadata": {
    "execution": {
     "iopub.execute_input": "2025-06-25T00:54:13.233741Z",
     "iopub.status.busy": "2025-06-25T00:54:13.233006Z",
     "iopub.status.idle": "2025-06-25T00:54:13.249874Z",
     "shell.execute_reply": "2025-06-25T00:54:13.248771Z"
    },
    "papermill": {
     "duration": 0.021779,
     "end_time": "2025-06-25T00:54:13.251697",
     "exception": false,
     "start_time": "2025-06-25T00:54:13.229918",
     "status": "completed"
    },
    "tags": []
   },
   "outputs": [],
   "source": [
    "# Ensure test has the same columns, fill missing ones with 0\n",
    "for col in train_features:\n",
    "    if col not in test_rdkit:\n",
    "        test_rdkit[col] = 0\n",
    "\n",
    "X_test = test_rdkit[train_features].fillna(0)\n"
   ]
  },
  {
   "cell_type": "code",
   "execution_count": 5,
   "id": "3d1acc3a",
   "metadata": {
    "execution": {
     "iopub.execute_input": "2025-06-25T00:54:13.259526Z",
     "iopub.status.busy": "2025-06-25T00:54:13.258741Z",
     "iopub.status.idle": "2025-06-25T00:54:21.968367Z",
     "shell.execute_reply": "2025-06-25T00:54:21.967514Z"
    },
    "papermill": {
     "duration": 8.71499,
     "end_time": "2025-06-25T00:54:21.969976",
     "exception": false,
     "start_time": "2025-06-25T00:54:13.254986",
     "status": "completed"
    },
    "tags": []
   },
   "outputs": [],
   "source": [
    "# ----- STEP 2: Predict using trained models -----\n",
    "targets = ['Tg', 'FFV', 'Tc', 'Density', 'Rg']\n",
    "submission = pd.DataFrame()\n",
    "submission['id'] = test_rdkit['id']\n",
    "\n",
    "for target in targets:\n",
    "    model = joblib.load(f\"/kaggle/input/precomputed-rdkit-features/model_{target}.pkl\")\n",
    "    submission[target] = model.predict(X_test)\n"
   ]
  },
  {
   "cell_type": "code",
   "execution_count": 6,
   "id": "c7d60d36",
   "metadata": {
    "execution": {
     "iopub.execute_input": "2025-06-25T00:54:21.975739Z",
     "iopub.status.busy": "2025-06-25T00:54:21.975087Z",
     "iopub.status.idle": "2025-06-25T00:54:21.989602Z",
     "shell.execute_reply": "2025-06-25T00:54:21.988581Z"
    },
    "papermill": {
     "duration": 0.019169,
     "end_time": "2025-06-25T00:54:21.991371",
     "exception": false,
     "start_time": "2025-06-25T00:54:21.972202",
     "status": "completed"
    },
    "tags": []
   },
   "outputs": [
    {
     "name": "stdout",
     "output_type": "stream",
     "text": [
      "✅ Submission shape: (3, 6)\n",
      "✅ submission.csv saved successfully.\n"
     ]
    }
   ],
   "source": [
    "# ----- STEP 4: Final validation before saving -----\n",
    "expected_columns = ['id', 'Tg', 'FFV', 'Tc', 'Density', 'Rg']\n",
    "missing_cols = [col for col in expected_columns if col not in submission.columns]\n",
    "if missing_cols:\n",
    "    raise ValueError(f\"❌ Missing columns: {missing_cols}\")\n",
    "\n",
    "if submission.isnull().any().any():\n",
    "    raise ValueError(\"❌ Submission contains NaN values.\")\n",
    "\n",
    "if not np.issubdtype(submission['id'].dtype, np.integer):\n",
    "    raise TypeError(\"❌ 'id' column must be of integer type.\")\n",
    "\n",
    "print(f\"✅ Submission shape: {submission.shape}\")\n",
    "\n",
    "# Save only if all checks pass\n",
    "submission.to_csv(\"submission.csv\", index=False)\n",
    "print(\"✅ submission.csv saved successfully.\")"
   ]
  }
 ],
 "metadata": {
  "kaggle": {
   "accelerator": "none",
   "dataSources": [
    {
     "databundleVersionId": 12609125,
     "isSourceIdPinned": false,
     "sourceId": 74608,
     "sourceType": "competition"
    },
    {
     "datasetId": 7735046,
     "sourceId": 12274509,
     "sourceType": "datasetVersion"
    },
    {
     "datasetId": 7735067,
     "sourceId": 12274551,
     "sourceType": "datasetVersion"
    }
   ],
   "dockerImageVersionId": 31040,
   "isGpuEnabled": false,
   "isInternetEnabled": true,
   "language": "python",
   "sourceType": "notebook"
  },
  "kernelspec": {
   "display_name": "Python 3",
   "language": "python",
   "name": "python3"
  },
  "language_info": {
   "codemirror_mode": {
    "name": "ipython",
    "version": 3
   },
   "file_extension": ".py",
   "mimetype": "text/x-python",
   "name": "python",
   "nbconvert_exporter": "python",
   "pygments_lexer": "ipython3",
   "version": "3.11.11"
  },
  "papermill": {
   "default_parameters": {},
   "duration": 17.308439,
   "end_time": "2025-06-25T00:54:22.915319",
   "environment_variables": {},
   "exception": null,
   "input_path": "__notebook__.ipynb",
   "output_path": "__notebook__.ipynb",
   "parameters": {},
   "start_time": "2025-06-25T00:54:05.606880",
   "version": "2.6.0"
  }
 },
 "nbformat": 4,
 "nbformat_minor": 5
}
